{
 "cells": [
  {
   "cell_type": "code",
   "execution_count": 113,
   "metadata": {},
   "outputs": [],
   "source": [
    "from bs4 import BeautifulSoup # to parse html\n",
    "import pandas as pd"
   ]
  },
  {
   "cell_type": "code",
   "execution_count": 19,
   "metadata": {},
   "outputs": [],
   "source": [
    "bigfoot_file = 'data/bigfoot_data.json'\n",
    "\n",
    "with open(bigfoot_file) as f:\n",
    "    raw_df = pd.read_json(f, lines=True)"
   ]
  },
  {
   "cell_type": "code",
   "execution_count": 20,
   "metadata": {},
   "outputs": [
    {
     "data": {
      "text/html": [
       "<div>\n",
       "<style scoped>\n",
       "    .dataframe tbody tr th:only-of-type {\n",
       "        vertical-align: middle;\n",
       "    }\n",
       "\n",
       "    .dataframe tbody tr th {\n",
       "        vertical-align: top;\n",
       "    }\n",
       "\n",
       "    .dataframe thead th {\n",
       "        text-align: right;\n",
       "    }\n",
       "</style>\n",
       "<table border=\"1\" class=\"dataframe\">\n",
       "  <thead>\n",
       "    <tr style=\"text-align: right;\">\n",
       "      <th></th>\n",
       "      <th>_id</th>\n",
       "      <th>url</th>\n",
       "      <th>html</th>\n",
       "      <th>time</th>\n",
       "    </tr>\n",
       "  </thead>\n",
       "  <tbody>\n",
       "    <tr>\n",
       "      <th>0</th>\n",
       "      <td>{'$oid': '5939abbd2acdf6607095366c'}</td>\n",
       "      <td>show_report.asp?id=13038</td>\n",
       "      <td>\\r\\n&lt;!doctype html public \"-//w3c//dtd html 4....</td>\n",
       "      <td>Thu Jun  8 19:55:40 2017</td>\n",
       "    </tr>\n",
       "    <tr>\n",
       "      <th>1</th>\n",
       "      <td>{'$oid': '5939abbd2acdf6607095366d'}</td>\n",
       "      <td>show_report.asp?id=8792</td>\n",
       "      <td>\\r\\n&lt;!doctype html public \"-//w3c//dtd html 4....</td>\n",
       "      <td>Thu Jun  8 19:55:41 2017</td>\n",
       "    </tr>\n",
       "    <tr>\n",
       "      <th>2</th>\n",
       "      <td>{'$oid': '5939abbd2acdf6607095366e'}</td>\n",
       "      <td>show_report.asp?id=1255</td>\n",
       "      <td>\\r\\n&lt;!doctype html public \"-//w3c//dtd html 4....</td>\n",
       "      <td>Thu Jun  8 19:55:41 2017</td>\n",
       "    </tr>\n",
       "    <tr>\n",
       "      <th>3</th>\n",
       "      <td>{'$oid': '5939abbd2acdf6607095366f'}</td>\n",
       "      <td>show_report.asp?id=11616</td>\n",
       "      <td>\\r\\n&lt;!doctype html public \"-//w3c//dtd html 4....</td>\n",
       "      <td>Thu Jun  8 19:55:41 2017</td>\n",
       "    </tr>\n",
       "    <tr>\n",
       "      <th>4</th>\n",
       "      <td>{'$oid': '5939abbe2acdf66070953670'}</td>\n",
       "      <td>show_report.asp?id=637</td>\n",
       "      <td>\\r\\n&lt;!doctype html public \"-//w3c//dtd html 4....</td>\n",
       "      <td>Thu Jun  8 19:55:42 2017</td>\n",
       "    </tr>\n",
       "  </tbody>\n",
       "</table>\n",
       "</div>"
      ],
      "text/plain": [
       "                                    _id                       url  \\\n",
       "0  {'$oid': '5939abbd2acdf6607095366c'}  show_report.asp?id=13038   \n",
       "1  {'$oid': '5939abbd2acdf6607095366d'}   show_report.asp?id=8792   \n",
       "2  {'$oid': '5939abbd2acdf6607095366e'}   show_report.asp?id=1255   \n",
       "3  {'$oid': '5939abbd2acdf6607095366f'}  show_report.asp?id=11616   \n",
       "4  {'$oid': '5939abbe2acdf66070953670'}    show_report.asp?id=637   \n",
       "\n",
       "                                                html                      time  \n",
       "0  \\r\\n<!doctype html public \"-//w3c//dtd html 4....  Thu Jun  8 19:55:40 2017  \n",
       "1  \\r\\n<!doctype html public \"-//w3c//dtd html 4....  Thu Jun  8 19:55:41 2017  \n",
       "2  \\r\\n<!doctype html public \"-//w3c//dtd html 4....  Thu Jun  8 19:55:41 2017  \n",
       "3  \\r\\n<!doctype html public \"-//w3c//dtd html 4....  Thu Jun  8 19:55:41 2017  \n",
       "4  \\r\\n<!doctype html public \"-//w3c//dtd html 4....  Thu Jun  8 19:55:42 2017  "
      ]
     },
     "execution_count": 20,
     "metadata": {},
     "output_type": "execute_result"
    }
   ],
   "source": [
    "raw_df.head()"
   ]
  },
  {
   "cell_type": "code",
   "execution_count": 81,
   "metadata": {},
   "outputs": [
    {
     "data": {
      "text/plain": [
       "4857"
      ]
     },
     "execution_count": 81,
     "metadata": {},
     "output_type": "execute_result"
    }
   ],
   "source": [
    "raw_df.shape[0]"
   ]
  },
  {
   "cell_type": "code",
   "execution_count": 83,
   "metadata": {},
   "outputs": [],
   "source": [
    "drop_indices = []\n",
    "\n",
    "for i, x in enumerate(raw_df.html):\n",
    "    if 'Media Article' in x:\n",
    "        drop_indices.append(i)"
   ]
  },
  {
   "cell_type": "code",
   "execution_count": 86,
   "metadata": {},
   "outputs": [],
   "source": [
    "good_df = raw_df.drop(drop_indices).reset_index()"
   ]
  },
  {
   "cell_type": "code",
   "execution_count": 87,
   "metadata": {},
   "outputs": [],
   "source": [
    "soup = BeautifulSoup(good_df.html[0])"
   ]
  },
  {
   "cell_type": "code",
   "execution_count": 88,
   "metadata": {},
   "outputs": [
    {
     "data": {
      "text/plain": [
       "['Geographical Index > United States > Alaska > Anchorage County > Report # 13038\\xa0',\n",
       " 'Report # 13038',\n",
       " '(Class A)',\n",
       " 'Submitted  by  witness   on Saturday,\\xa0November\\xa012,\\xa02005.',\n",
       " 'Snowmobiler has encounter in deep snow near Potter, AK']"
      ]
     },
     "execution_count": 88,
     "metadata": {},
     "output_type": "execute_result"
    }
   ],
   "source": [
    "[x.text for x in soup.findAll('span')[0:5]]"
   ]
  },
  {
   "cell_type": "code",
   "execution_count": 89,
   "metadata": {},
   "outputs": [],
   "source": [
    "def build_header(str_lst):\n",
    "    result = {}\n",
    "    geographic = [x.strip() for x in str_lst[0].split('>')]\n",
    "    geo_dict = {}\n",
    "    geo_dict['region'] = geographic[1]\n",
    "    geo_dict['state'] = geographic[2]\n",
    "    geo_dict['detail'] = geographic[3]\n",
    "    report = geographic[4]\n",
    "    geo_dict['report'] = report.split(' ')[-1]\n",
    "    geo_dict['report_class'] = str_lst[2]\n",
    "    return geo_dict"
   ]
  },
  {
   "cell_type": "code",
   "execution_count": 90,
   "metadata": {},
   "outputs": [
    {
     "data": {
      "text/plain": [
       "{'region': 'United States',\n",
       " 'state': 'Alaska',\n",
       " 'detail': 'Anchorage County',\n",
       " 'report': '13038',\n",
       " 'report_class': '(Class A)'}"
      ]
     },
     "execution_count": 90,
     "metadata": {},
     "output_type": "execute_result"
    }
   ],
   "source": [
    "build_header([x.text for x in soup.findAll('span')[0:5]])"
   ]
  },
  {
   "cell_type": "raw",
   "metadata": {},
   "source": [
    "def build_details(str_lst):\n",
    "    result = {}\n",
    "    extra = []\n",
    "    key_map = ['year', 'season', 'month', 'state', 'county', 'location_details', 'nearest_town', \n",
    "               'nearest_road', 'observed', 'also_noticed', 'other_witnesses', 'other_stories', \n",
    "               'time_and_conditions','environment']\n",
    "    for i, x in enumerate(str_lst):\n",
    "        if i < 14:\n",
    "            result[key_map[i]] = ' '.join(x.split(':')[1:])\n",
    "        else:\n",
    "            extra.append(x)\n",
    "    \n",
    "    result['extra'] = ' '.join(extra)\n",
    "    \n",
    "    return result"
   ]
  },
  {
   "cell_type": "code",
   "execution_count": 91,
   "metadata": {},
   "outputs": [],
   "source": [
    "def build_details(str_lst):\n",
    "    \n",
    "    # empty list to store return key value pairs\n",
    "    result = {}\n",
    "    \n",
    "    valid_columns = ['YEAR', 'SEASON', 'MONTH', 'STATE', 'COUNTY', 'LOCATION DETAILS',\n",
    "       'NEAREST TOWN', 'NEAREST ROAD', 'OBSERVED', 'ALSO NOTICED',\n",
    "       'OTHER WITNESSES', 'OTHER STORIES', 'TIME AND CONDITIONS',\n",
    "       'ENVIRONMENT', 'DATE', 'extra']\n",
    "    \n",
    "    # flag to alter the way we build keys\n",
    "    process_diff = False\n",
    "    \n",
    "    # empty array to store extra information if process_diff flag is True\n",
    "    extra = []\n",
    "    for i, x in enumerate(str_lst):\n",
    "        # splits each line into a key, value string pair\n",
    "        first, *second = x.split(':')\n",
    "        \n",
    "        if not first.isupper() and first not in valid_columns:    \n",
    "            # checks if key isn't CAPS, if not we process the rest of the html differently\n",
    "            process_diff = True\n",
    "            \n",
    "        if not process_diff:\n",
    "            # we join the second part in case there exists a colon \":\" inside the raw text\n",
    "            result[first] = (' '.join(second)).strip()\n",
    "            \n",
    "        else:\n",
    "            # append each extra line to a general array\n",
    "            extra.append(x)\n",
    "    \n",
    "    # combine all extra values into a single long string\n",
    "    result['extra'] = ' '.join(extra)\n",
    "    remove_keys = []\n",
    "    for key in result.keys():\n",
    "        if key not in valid_columns:\n",
    "            remove_keys.append(key)\n",
    "    for key in remove_keys:\n",
    "        result.pop(key)\n",
    "    return result"
   ]
  },
  {
   "cell_type": "code",
   "execution_count": 92,
   "metadata": {},
   "outputs": [
    {
     "data": {
      "text/plain": [
       "{'YEAR': '1965',\n",
       " 'SEASON': 'Summer',\n",
       " 'MONTH': 'August',\n",
       " 'STATE': 'Washington',\n",
       " 'COUNTY': 'Yakima County',\n",
       " 'LOCATION DETAILS': 'parker washington out side of yakima washington',\n",
       " 'NEAREST TOWN': 'parker out side of yakima',\n",
       " 'NEAREST ROAD': 'the old yakima road to wapato',\n",
       " 'OBSERVED': 'when i was a kid we lived out side of yakima out in the country by parker a little town out side of yakima . Near the yakima river matter of fact we were so close to the river that in the spring when the river rose we had to move the animals an go into town .the woods were thick we had a pig pen it was a long ways away from the house really thickly wooded. all the time we lived there you wood hear shrill whistling whistling in the bushesat this time we were maybe ten years old never heard of bigfoot before im 48 years old now so it was long ago.It was in the ninteen sixtys way before roger patterson nobody knew about bigfoot . Well anyway us kids were sent into the woods to feed the cows at the big pond . We had two cows we had a little wagon with a bail of hay on it .We left it there for them to eat we left and stopped by the river to talk. Four of us kids we were all looking the same way when all of a sudden 30 feet away something something stepped from the clearing in full view of us took one step maybe six feet an dissapeared behind a bush it was id say eight feet tall hairy it took one step and was gone .We alllooked at each other an ran home nobody beleived us the said it may have been a hunter or something . that was the end of it . It was years later that i learned what it really was .I was 40 years old looking in a library when i saw something about it and what i read told of sightings of bigfoot in the same place where we lived the same years we lived there. It didnt try to chase us we were kids it could have caught us easily but i think it was just watching us . I also reamember my aunt going to kook for us kids at anoughter time at the pig pen we came home anighter way she came running up out of breath she heard a loud whistle behind her in the bushes i remmber hearing those all the time even in the daytime they were so shrill. Once my aunt was alone at the house at night she came out side to get into the car to pick us up in town she herd the shrill whistle behind her next to the house she tore out out of there so fast she drove right therw the loced fence. all of this is true he does exist i saw him . I have other stories to tell im half indian i spent my whole life in the yakima valley.',\n",
       " 'ALSO NOTICED': 'it was big walked like a man.never thyed to hurt anyone . Think it was just curious just watched us.',\n",
       " 'OTHER WITNESSES': 'four of us . other aunts and uncles always herd the whistels.',\n",
       " 'OTHER STORIES': 'in books.',\n",
       " 'TIME AND CONDITIONS': 'it didnt matter all the time we lived there.',\n",
       " 'ENVIRONMENT': 'lots of cotten wood trees by the river thickly wooded.',\n",
       " 'extra': 'Follow-up investigation report: Witness had described the area around sighting before the interstate was constructed north of the Yakima River.  Area was used year round for various activities such as fishing, camping, swimming, and some hunting. \"As kids we were told never to play outside in the dark. Grandma would always tell us of the hairy man that would come out at night.  All kids that lived on the reservation were told stories of bigfoot, thought it was meant to keep us from playing outside when it got dark.\"\"This was all before the new highway was built... back before the road was paved...there was only one gravel road that used to go back there... back by our place.\"Not uncommon today to see deer and elk running through the area as populated as the area has become.  Today driving by site there is a speedway and gravel company that are within a few hundred yards of area where witness spotted the figure.Witness also relayed other stories of the closed areas of the reservation, mentioning Potato Hill, which is on the north side of Mt. Adams, west boundary of the Yakima Reservation and also mentioned in a few books about Sasquatch. \"My grandmother told me that she had seen one up in that area when she was young, picking huckleberries.\" '}"
      ]
     },
     "execution_count": 92,
     "metadata": {},
     "output_type": "execute_result"
    }
   ],
   "source": [
    "soup = BeautifulSoup(good_df.html[4251])\n",
    "\n",
    "build_details([x.text for x in soup.find_all('p')])"
   ]
  },
  {
   "cell_type": "code",
   "execution_count": 93,
   "metadata": {},
   "outputs": [],
   "source": [
    "def process_one(row):\n",
    "    soup = BeautifulSoup(row)\n",
    "    details = build_details([x.text for x in soup.find_all('p')])\n",
    "    header = build_header([x.text for x in soup.find_all('span')[0:5]])\n",
    "    joined = {}\n",
    "    joined.update(details)\n",
    "    joined.update(header)\n",
    "    return joined\n",
    "    "
   ]
  },
  {
   "cell_type": "code",
   "execution_count": 94,
   "metadata": {},
   "outputs": [
    {
     "name": "stdout",
     "output_type": "stream",
     "text": [
      "4251\n"
     ]
    }
   ],
   "source": [
    "for i, row in enumerate(raw_df.html):\n",
    "    if 'SEE PHOTOS FROM SILVER STAR MOUNTAIN' in row:\n",
    "        print(i)"
   ]
  },
  {
   "cell_type": "code",
   "execution_count": 112,
   "metadata": {},
   "outputs": [],
   "source": [
    "processed = []\n",
    "\n",
    "for i, row in enumerate(good_df.html):\n",
    "    try:\n",
    "        processed.append(process_one(row))\n",
    "    except Exception as e:\n",
    "        pass\n",
    "        #print(f'row: {i}', e)"
   ]
  },
  {
   "cell_type": "code",
   "execution_count": 114,
   "metadata": {},
   "outputs": [
    {
     "data": {
      "text/plain": [
       "Text(0.5, 1.0, 'Column Counts')"
      ]
     },
     "execution_count": 114,
     "metadata": {},
     "output_type": "execute_result"
    },
    {
     "data": {
      "image/png": "[encoded data removed]",
      "text/plain": [
       "<Figure size 432x288 with 1 Axes>"
      ]
     },
     "metadata": {
      "needs_background": "light"
     },
     "output_type": "display_data"
    }
   ],
   "source": [
    "import matplotlib.pyplot as plt\n",
    "\n",
    "fig, ax = plt.subplots()\n",
    "\n",
    "ax.hist([len(x.keys()) for x in processed])\n",
    "ax.set_title('Column Counts')"
   ]
  },
  {
   "cell_type": "code",
   "execution_count": 98,
   "metadata": {},
   "outputs": [],
   "source": [
    "df = pd.DataFrame(processed)"
   ]
  },
  {
   "cell_type": "code",
   "execution_count": 99,
   "metadata": {},
   "outputs": [
    {
     "data": {
      "text/plain": [
       "Index(['YEAR', 'SEASON', 'MONTH', 'STATE', 'COUNTY', 'LOCATION DETAILS',\n",
       "       'NEAREST TOWN', 'NEAREST ROAD', 'OBSERVED', 'ALSO NOTICED',\n",
       "       'OTHER WITNESSES', 'OTHER STORIES', 'TIME AND CONDITIONS',\n",
       "       'ENVIRONMENT', 'extra', 'region', 'state', 'detail', 'report',\n",
       "       'report_class', 'DATE'],\n",
       "      dtype='object')"
      ]
     },
     "execution_count": 99,
     "metadata": {},
     "output_type": "execute_result"
    }
   ],
   "source": [
    "df.columns"
   ]
  },
  {
   "cell_type": "code",
   "execution_count": 100,
   "metadata": {},
   "outputs": [
    {
     "data": {
      "text/html": [
       "<div>\n",
       "<style scoped>\n",
       "    .dataframe tbody tr th:only-of-type {\n",
       "        vertical-align: middle;\n",
       "    }\n",
       "\n",
       "    .dataframe tbody tr th {\n",
       "        vertical-align: top;\n",
       "    }\n",
       "\n",
       "    .dataframe thead th {\n",
       "        text-align: right;\n",
       "    }\n",
       "</style>\n",
       "<table border=\"1\" class=\"dataframe\">\n",
       "  <thead>\n",
       "    <tr style=\"text-align: right;\">\n",
       "      <th></th>\n",
       "      <th>YEAR</th>\n",
       "      <th>SEASON</th>\n",
       "      <th>MONTH</th>\n",
       "      <th>STATE</th>\n",
       "      <th>COUNTY</th>\n",
       "      <th>LOCATION DETAILS</th>\n",
       "      <th>NEAREST TOWN</th>\n",
       "      <th>NEAREST ROAD</th>\n",
       "      <th>OBSERVED</th>\n",
       "      <th>ALSO NOTICED</th>\n",
       "      <th>...</th>\n",
       "      <th>OTHER STORIES</th>\n",
       "      <th>TIME AND CONDITIONS</th>\n",
       "      <th>ENVIRONMENT</th>\n",
       "      <th>extra</th>\n",
       "      <th>region</th>\n",
       "      <th>state</th>\n",
       "      <th>detail</th>\n",
       "      <th>report</th>\n",
       "      <th>report_class</th>\n",
       "      <th>DATE</th>\n",
       "    </tr>\n",
       "  </thead>\n",
       "  <tbody>\n",
       "    <tr>\n",
       "      <th>0</th>\n",
       "      <td>2004</td>\n",
       "      <td>Winter</td>\n",
       "      <td>February</td>\n",
       "      <td>Alaska</td>\n",
       "      <td>Anchorage County</td>\n",
       "      <td>Up near powerline clearings east of Potter Mar...</td>\n",
       "      <td>Anchorage / Hillside</td>\n",
       "      <td>No real roads in the area</td>\n",
       "      <td>I and two of my friends were bored one night s...</td>\n",
       "      <td>Some tracks in the snow, and a clearing in the...</td>\n",
       "      <td>...</td>\n",
       "      <td>I have not heard of any other incidents in Anc...</td>\n",
       "      <td>Middle of the night. The only light was the he...</td>\n",
       "      <td>In the middle of the woods, in a clearing cove...</td>\n",
       "      <td>Follow-up investigation report by BFRO Investi...</td>\n",
       "      <td>United States</td>\n",
       "      <td>Alaska</td>\n",
       "      <td>Anchorage County</td>\n",
       "      <td>13038</td>\n",
       "      <td>(Class A)</td>\n",
       "      <td>NaN</td>\n",
       "    </tr>\n",
       "    <tr>\n",
       "      <th>1</th>\n",
       "      <td>2003</td>\n",
       "      <td>Winter</td>\n",
       "      <td>December</td>\n",
       "      <td>Alaska</td>\n",
       "      <td>Anchorage County</td>\n",
       "      <td>Few houses on the way, a power relay station. ...</td>\n",
       "      <td>Anchorage</td>\n",
       "      <td>Dowling</td>\n",
       "      <td>Me and a couple of friends had been bored, whe...</td>\n",
       "      <td>We smelled of colonge and after shave, and one...</td>\n",
       "      <td>...</td>\n",
       "      <td>no</td>\n",
       "      <td>Started at 11, ended at about 3-3 30. Weather ...</td>\n",
       "      <td>A pine forest, with a bog or swamp on the righ...</td>\n",
       "      <td>Follow-up investigation report by BFRO Investi...</td>\n",
       "      <td>United States</td>\n",
       "      <td>Alaska</td>\n",
       "      <td>Anchorage County</td>\n",
       "      <td>8792</td>\n",
       "      <td>(Class B)</td>\n",
       "      <td>Friday night</td>\n",
       "    </tr>\n",
       "    <tr>\n",
       "      <th>2</th>\n",
       "      <td>1998</td>\n",
       "      <td>Fall</td>\n",
       "      <td>September</td>\n",
       "      <td>Alaska</td>\n",
       "      <td>Bethel County</td>\n",
       "      <td>45 miles by air west of Lake Iliamna, Alaska i...</td>\n",
       "      <td>NaN</td>\n",
       "      <td>NaN</td>\n",
       "      <td>My hunting buddy and I were sitting on a ridge...</td>\n",
       "      <td>nothing unusual</td>\n",
       "      <td>...</td>\n",
       "      <td>NaN</td>\n",
       "      <td>NaN</td>\n",
       "      <td>Call Iliamna Air taxi for lat &amp; Long of Long L...</td>\n",
       "      <td></td>\n",
       "      <td>United States</td>\n",
       "      <td>Alaska</td>\n",
       "      <td>Bethel County</td>\n",
       "      <td>1255</td>\n",
       "      <td>(Class B)</td>\n",
       "      <td>3</td>\n",
       "    </tr>\n",
       "    <tr>\n",
       "      <th>3</th>\n",
       "      <td>2004</td>\n",
       "      <td>Summer</td>\n",
       "      <td>July</td>\n",
       "      <td>Alaska</td>\n",
       "      <td>Bristol Bay County</td>\n",
       "      <td>Approximately 95 miles east of Egegik, Alaska....</td>\n",
       "      <td>Egegik</td>\n",
       "      <td>NaN</td>\n",
       "      <td>To whom it may concern, I am a commercial fish...</td>\n",
       "      <td>Just these foot prints and how obvious it was ...</td>\n",
       "      <td>...</td>\n",
       "      <td>I've only heard of one other story, from an ol...</td>\n",
       "      <td>Approximately 12 30 pm, partially coudy/sunny.</td>\n",
       "      <td>Lake front,creek spit, gravel and sand, alder ...</td>\n",
       "      <td>Follow-up investigation report by BFRO Investi...</td>\n",
       "      <td>United States</td>\n",
       "      <td>Alaska</td>\n",
       "      <td>Bristol Bay County</td>\n",
       "      <td>11616</td>\n",
       "      <td>(Class B)</td>\n",
       "      <td>20</td>\n",
       "    </tr>\n",
       "    <tr>\n",
       "      <th>4</th>\n",
       "      <td>2000</td>\n",
       "      <td>Summer</td>\n",
       "      <td>June</td>\n",
       "      <td>Alaska</td>\n",
       "      <td>Cordova-McCarthy County</td>\n",
       "      <td>On the main trail toward the glacier, before t...</td>\n",
       "      <td>Kennikot, Alaska</td>\n",
       "      <td>not sure</td>\n",
       "      <td>My hiking partner and I arrived late to the Ke...</td>\n",
       "      <td>I did hear what appeared to be grunting in the...</td>\n",
       "      <td>...</td>\n",
       "      <td>None</td>\n",
       "      <td>About 12 00 Midnight / full moon / clear / dim...</td>\n",
       "      <td>This sighting was located at approximately 1 t...</td>\n",
       "      <td>Follow-up investigation report: Summary of com...</td>\n",
       "      <td>United States</td>\n",
       "      <td>Alaska</td>\n",
       "      <td>Cordova-McCarthy County</td>\n",
       "      <td>637</td>\n",
       "      <td>(Class A)</td>\n",
       "      <td>16</td>\n",
       "    </tr>\n",
       "  </tbody>\n",
       "</table>\n",
       "<p>5 rows × 21 columns</p>\n",
       "</div>"
      ],
      "text/plain": [
       "   YEAR  SEASON      MONTH   STATE                   COUNTY  \\\n",
       "0  2004  Winter   February  Alaska         Anchorage County   \n",
       "1  2003  Winter   December  Alaska         Anchorage County   \n",
       "2  1998    Fall  September  Alaska            Bethel County   \n",
       "3  2004  Summer       July  Alaska       Bristol Bay County   \n",
       "4  2000  Summer       June  Alaska  Cordova-McCarthy County   \n",
       "\n",
       "                                    LOCATION DETAILS          NEAREST TOWN  \\\n",
       "0  Up near powerline clearings east of Potter Mar...  Anchorage / Hillside   \n",
       "1  Few houses on the way, a power relay station. ...             Anchorage   \n",
       "2  45 miles by air west of Lake Iliamna, Alaska i...                   NaN   \n",
       "3  Approximately 95 miles east of Egegik, Alaska....                Egegik   \n",
       "4  On the main trail toward the glacier, before t...      Kennikot, Alaska   \n",
       "\n",
       "                NEAREST ROAD  \\\n",
       "0  No real roads in the area   \n",
       "1                    Dowling   \n",
       "2                        NaN   \n",
       "3                        NaN   \n",
       "4                   not sure   \n",
       "\n",
       "                                            OBSERVED  \\\n",
       "0  I and two of my friends were bored one night s...   \n",
       "1  Me and a couple of friends had been bored, whe...   \n",
       "2  My hunting buddy and I were sitting on a ridge...   \n",
       "3  To whom it may concern, I am a commercial fish...   \n",
       "4  My hiking partner and I arrived late to the Ke...   \n",
       "\n",
       "                                        ALSO NOTICED  ...  \\\n",
       "0  Some tracks in the snow, and a clearing in the...  ...   \n",
       "1  We smelled of colonge and after shave, and one...  ...   \n",
       "2                                    nothing unusual  ...   \n",
       "3  Just these foot prints and how obvious it was ...  ...   \n",
       "4  I did hear what appeared to be grunting in the...  ...   \n",
       "\n",
       "                                       OTHER STORIES  \\\n",
       "0  I have not heard of any other incidents in Anc...   \n",
       "1                                                 no   \n",
       "2                                                NaN   \n",
       "3  I've only heard of one other story, from an ol...   \n",
       "4                                               None   \n",
       "\n",
       "                                 TIME AND CONDITIONS  \\\n",
       "0  Middle of the night. The only light was the he...   \n",
       "1  Started at 11, ended at about 3-3 30. Weather ...   \n",
       "2                                                NaN   \n",
       "3     Approximately 12 30 pm, partially coudy/sunny.   \n",
       "4  About 12 00 Midnight / full moon / clear / dim...   \n",
       "\n",
       "                                         ENVIRONMENT  \\\n",
       "0  In the middle of the woods, in a clearing cove...   \n",
       "1  A pine forest, with a bog or swamp on the righ...   \n",
       "2  Call Iliamna Air taxi for lat & Long of Long L...   \n",
       "3  Lake front,creek spit, gravel and sand, alder ...   \n",
       "4  This sighting was located at approximately 1 t...   \n",
       "\n",
       "                                               extra         region   state  \\\n",
       "0  Follow-up investigation report by BFRO Investi...  United States  Alaska   \n",
       "1  Follow-up investigation report by BFRO Investi...  United States  Alaska   \n",
       "2                                                     United States  Alaska   \n",
       "3  Follow-up investigation report by BFRO Investi...  United States  Alaska   \n",
       "4  Follow-up investigation report: Summary of com...  United States  Alaska   \n",
       "\n",
       "                    detail report report_class          DATE  \n",
       "0         Anchorage County  13038    (Class A)           NaN  \n",
       "1         Anchorage County   8792    (Class B)  Friday night  \n",
       "2            Bethel County   1255    (Class B)             3  \n",
       "3       Bristol Bay County  11616    (Class B)            20  \n",
       "4  Cordova-McCarthy County    637    (Class A)            16  \n",
       "\n",
       "[5 rows x 21 columns]"
      ]
     },
     "execution_count": 100,
     "metadata": {},
     "output_type": "execute_result"
    }
   ],
   "source": [
    "df.head()"
   ]
  },
  {
   "cell_type": "code",
   "execution_count": 101,
   "metadata": {},
   "outputs": [
    {
     "data": {
      "text/html": [
       "<div>\n",
       "<style scoped>\n",
       "    .dataframe tbody tr th:only-of-type {\n",
       "        vertical-align: middle;\n",
       "    }\n",
       "\n",
       "    .dataframe tbody tr th {\n",
       "        vertical-align: top;\n",
       "    }\n",
       "\n",
       "    .dataframe thead th {\n",
       "        text-align: right;\n",
       "    }\n",
       "</style>\n",
       "<table border=\"1\" class=\"dataframe\">\n",
       "  <thead>\n",
       "    <tr style=\"text-align: right;\">\n",
       "      <th></th>\n",
       "      <th>YEAR</th>\n",
       "      <th>SEASON</th>\n",
       "      <th>MONTH</th>\n",
       "      <th>STATE</th>\n",
       "      <th>COUNTY</th>\n",
       "      <th>LOCATION DETAILS</th>\n",
       "      <th>NEAREST TOWN</th>\n",
       "      <th>NEAREST ROAD</th>\n",
       "      <th>OBSERVED</th>\n",
       "      <th>ALSO NOTICED</th>\n",
       "      <th>...</th>\n",
       "      <th>OTHER STORIES</th>\n",
       "      <th>TIME AND CONDITIONS</th>\n",
       "      <th>ENVIRONMENT</th>\n",
       "      <th>extra</th>\n",
       "      <th>region</th>\n",
       "      <th>state</th>\n",
       "      <th>detail</th>\n",
       "      <th>report</th>\n",
       "      <th>report_class</th>\n",
       "      <th>DATE</th>\n",
       "    </tr>\n",
       "  </thead>\n",
       "  <tbody>\n",
       "  </tbody>\n",
       "</table>\n",
       "<p>0 rows × 21 columns</p>\n",
       "</div>"
      ],
      "text/plain": [
       "Empty DataFrame\n",
       "Columns: [YEAR, SEASON, MONTH, STATE, COUNTY, LOCATION DETAILS, NEAREST TOWN, NEAREST ROAD, OBSERVED, ALSO NOTICED, OTHER WITNESSES, OTHER STORIES, TIME AND CONDITIONS, ENVIRONMENT, extra, region, state, detail, report, report_class, DATE]\n",
       "Index: []\n",
       "\n",
       "[0 rows x 21 columns]"
      ]
     },
     "execution_count": 101,
     "metadata": {},
     "output_type": "execute_result"
    }
   ],
   "source": [
    "df[(df.report_class != '(Class A)') & (df.report_class != '(Class B)') & (df.report_class != '(Class C)')]"
   ]
  },
  {
   "cell_type": "code",
   "execution_count": 107,
   "metadata": {},
   "outputs": [
    {
     "data": {
      "text/plain": [
       "True"
      ]
     },
     "execution_count": 107,
     "metadata": {},
     "output_type": "execute_result"
    }
   ],
   "source": [
    "len(df['MONTH'].value_counts()) <= 12"
   ]
  },
  {
   "cell_type": "code",
   "execution_count": 111,
   "metadata": {},
   "outputs": [
    {
     "data": {
      "text/plain": [
       "Washington        523\n",
       "California        393\n",
       "Florida           277\n",
       "Ohio              253\n",
       "Oregon            232\n",
       "Illinois          215\n",
       "Michigan          204\n",
       "Texas             193\n",
       "Missouri          129\n",
       "Georgia           118\n",
       "Kentucky          108\n",
       "Pennsylvania      108\n",
       "Colorado          107\n",
       "West Virginia      98\n",
       "New York           95\n",
       "Alabama            91\n",
       "Tennessee          88\n",
       "Arizona            83\n",
       "Arkansas           83\n",
       "Indiana            75\n",
       "North Carolina     75\n",
       "Oklahoma           72\n",
       "Virginia           71\n",
       "Idaho              66\n",
       "Wisconsin          65\n",
       "Minnesota          61\n",
       "New Jersey         58\n",
       "Utah               57\n",
       "Iowa               47\n",
       "Montana            43\n",
       "New Mexico         39\n",
       "Kansas             39\n",
       "South Carolina     37\n",
       "Louisiana          36\n",
       "Maryland           33\n",
       "Wyoming            27\n",
       "Massachusetts      25\n",
       "Mississippi        21\n",
       "Alaska             20\n",
       "Nebraska           14\n",
       "New Hampshire      11\n",
       "Connecticut        11\n",
       "South Dakota       11\n",
       "Maine              10\n",
       "Vermont             8\n",
       "Nevada              7\n",
       "Delaware            5\n",
       "Rhode Island        5\n",
       "North Dakota        4\n",
       "Name: STATE, dtype: int64"
      ]
     },
     "execution_count": 111,
     "metadata": {},
     "output_type": "execute_result"
    }
   ],
   "source": [
    "df['STATE'].value_counts()"
   ]
  },
  {
   "cell_type": "code",
   "execution_count": null,
   "metadata": {},
   "outputs": [],
   "source": []
  }
 ],
 "metadata": {
  "kernelspec": {
   "display_name": "Python 3",
   "language": "python",
   "name": "python3"
  },
  "language_info": {
   "codemirror_mode": {
    "name": "ipython",
    "version": 3
   },
   "file_extension": ".py",
   "mimetype": "text/x-python",
   "name": "python",
   "nbconvert_exporter": "python",
   "pygments_lexer": "ipython3",
   "version": "3.8.5"
  }
 },
 "nbformat": 4,
 "nbformat_minor": 4
}
