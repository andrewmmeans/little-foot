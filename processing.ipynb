{
 "cells": [
  {
   "cell_type": "code",
   "execution_count": 123,
   "metadata": {},
   "outputs": [],
   "source": [
    "from bs4 import BeautifulSoup # to parse html\n",
    "import pandas as pd"
   ]
  },
  {
   "cell_type": "code",
   "execution_count": 124,
   "metadata": {},
   "outputs": [],
   "source": [
    "bigfoot_file = 'data/bigfoot_first100records.json'\n",
    "\n",
    "with open(bigfoot_file) as f:\n",
    "    raw_df = pd.read_json(f, lines=True)"
   ]
  },
  {
   "cell_type": "code",
   "execution_count": 125,
   "metadata": {},
   "outputs": [
    {
     "data": {
      "text/html": [
       "<div>\n",
       "<style scoped>\n",
       "    .dataframe tbody tr th:only-of-type {\n",
       "        vertical-align: middle;\n",
       "    }\n",
       "\n",
       "    .dataframe tbody tr th {\n",
       "        vertical-align: top;\n",
       "    }\n",
       "\n",
       "    .dataframe thead th {\n",
       "        text-align: right;\n",
       "    }\n",
       "</style>\n",
       "<table border=\"1\" class=\"dataframe\">\n",
       "  <thead>\n",
       "    <tr style=\"text-align: right;\">\n",
       "      <th></th>\n",
       "      <th>_id</th>\n",
       "      <th>url</th>\n",
       "      <th>html</th>\n",
       "      <th>time</th>\n",
       "    </tr>\n",
       "  </thead>\n",
       "  <tbody>\n",
       "    <tr>\n",
       "      <th>0</th>\n",
       "      <td>{'$oid': '5939abbd2acdf6607095366c'}</td>\n",
       "      <td>show_report.asp?id=13038</td>\n",
       "      <td>\\r\\n&lt;!doctype html public \"-//w3c//dtd html 4....</td>\n",
       "      <td>Thu Jun  8 19:55:40 2017</td>\n",
       "    </tr>\n",
       "    <tr>\n",
       "      <th>1</th>\n",
       "      <td>{'$oid': '5939abbd2acdf6607095366d'}</td>\n",
       "      <td>show_report.asp?id=8792</td>\n",
       "      <td>\\r\\n&lt;!doctype html public \"-//w3c//dtd html 4....</td>\n",
       "      <td>Thu Jun  8 19:55:41 2017</td>\n",
       "    </tr>\n",
       "    <tr>\n",
       "      <th>2</th>\n",
       "      <td>{'$oid': '5939abbd2acdf6607095366e'}</td>\n",
       "      <td>show_report.asp?id=1255</td>\n",
       "      <td>\\r\\n&lt;!doctype html public \"-//w3c//dtd html 4....</td>\n",
       "      <td>Thu Jun  8 19:55:41 2017</td>\n",
       "    </tr>\n",
       "    <tr>\n",
       "      <th>3</th>\n",
       "      <td>{'$oid': '5939abbd2acdf6607095366f'}</td>\n",
       "      <td>show_report.asp?id=11616</td>\n",
       "      <td>\\r\\n&lt;!doctype html public \"-//w3c//dtd html 4....</td>\n",
       "      <td>Thu Jun  8 19:55:41 2017</td>\n",
       "    </tr>\n",
       "    <tr>\n",
       "      <th>4</th>\n",
       "      <td>{'$oid': '5939abbe2acdf66070953670'}</td>\n",
       "      <td>show_report.asp?id=637</td>\n",
       "      <td>\\r\\n&lt;!doctype html public \"-//w3c//dtd html 4....</td>\n",
       "      <td>Thu Jun  8 19:55:42 2017</td>\n",
       "    </tr>\n",
       "  </tbody>\n",
       "</table>\n",
       "</div>"
      ],
      "text/plain": [
       "                                    _id                       url  \\\n",
       "0  {'$oid': '5939abbd2acdf6607095366c'}  show_report.asp?id=13038   \n",
       "1  {'$oid': '5939abbd2acdf6607095366d'}   show_report.asp?id=8792   \n",
       "2  {'$oid': '5939abbd2acdf6607095366e'}   show_report.asp?id=1255   \n",
       "3  {'$oid': '5939abbd2acdf6607095366f'}  show_report.asp?id=11616   \n",
       "4  {'$oid': '5939abbe2acdf66070953670'}    show_report.asp?id=637   \n",
       "\n",
       "                                                html                      time  \n",
       "0  \\r\\n<!doctype html public \"-//w3c//dtd html 4....  Thu Jun  8 19:55:40 2017  \n",
       "1  \\r\\n<!doctype html public \"-//w3c//dtd html 4....  Thu Jun  8 19:55:41 2017  \n",
       "2  \\r\\n<!doctype html public \"-//w3c//dtd html 4....  Thu Jun  8 19:55:41 2017  \n",
       "3  \\r\\n<!doctype html public \"-//w3c//dtd html 4....  Thu Jun  8 19:55:41 2017  \n",
       "4  \\r\\n<!doctype html public \"-//w3c//dtd html 4....  Thu Jun  8 19:55:42 2017  "
      ]
     },
     "execution_count": 125,
     "metadata": {},
     "output_type": "execute_result"
    }
   ],
   "source": [
    "raw_df.head()"
   ]
  },
  {
   "cell_type": "code",
   "execution_count": 130,
   "metadata": {},
   "outputs": [
    {
     "data": {
      "text/plain": [
       "['Geographical Index > United States > Alaska > Valdez-Chitina-Whittier County > Report # 1261\\xa0',\n",
       " 'Report # 1261',\n",
       " '(Class A)',\n",
       " 'Submitted  by Henner Fahrenbach on Wednesday,\\xa0January\\xa01,\\xa01997.',\n",
       " 'Fisherman views a sasquatch through binoculars at a distance of 1000 feet']"
      ]
     },
     "execution_count": 130,
     "metadata": {},
     "output_type": "execute_result"
    }
   ],
   "source": [
    "[x.text for x in soup.findAll('span')[0:5]]"
   ]
  },
  {
   "cell_type": "code",
   "execution_count": 131,
   "metadata": {},
   "outputs": [],
   "source": [
    "def build_header(str_lst):\n",
    "    result = {}\n",
    "    geographic = [x.strip() for x in str_lst[0].split('>')]\n",
    "    geo_dict = {}\n",
    "    geo_dict['region'] = geographic[1]\n",
    "    geo_dict['state'] = geographic[2]\n",
    "    geo_dict['detail'] = geographic[3]\n",
    "    report = geographic[4]\n",
    "    geo_dict['report'] = report.split(' ')[-1]\n",
    "    geo_dict['report_class'] = str_lst[2]\n",
    "    return geo_dict"
   ]
  },
  {
   "cell_type": "code",
   "execution_count": 132,
   "metadata": {},
   "outputs": [
    {
     "data": {
      "text/plain": [
       "{'region': 'United States',\n",
       " 'state': 'Alaska',\n",
       " 'detail': 'Valdez-Chitina-Whittier County',\n",
       " 'report': '1261',\n",
       " 'report_class': '(Class A)'}"
      ]
     },
     "execution_count": 132,
     "metadata": {},
     "output_type": "execute_result"
    }
   ],
   "source": [
    "build_header([x.text for x in soup.findAll('span')[0:5]])"
   ]
  },
  {
   "cell_type": "raw",
   "metadata": {},
   "source": [
    "def build_details(str_lst):\n",
    "    result = {}\n",
    "    extra = []\n",
    "    key_map = ['year', 'season', 'month', 'state', 'county', 'location_details', 'nearest_town', \n",
    "               'nearest_road', 'observed', 'also_noticed', 'other_witnesses', 'other_stories', \n",
    "               'time_and_conditions','environment']\n",
    "    for i, x in enumerate(str_lst):\n",
    "        if i < 14:\n",
    "            result[key_map[i]] = ' '.join(x.split(':')[1:])\n",
    "        else:\n",
    "            extra.append(x)\n",
    "    \n",
    "    result['extra'] = ' '.join(extra)\n",
    "    \n",
    "    return result"
   ]
  },
  {
   "cell_type": "code",
   "execution_count": 133,
   "metadata": {},
   "outputs": [],
   "source": [
    "def build_details(str_lst):\n",
    "    \n",
    "    # empty list to store return key value pairs\n",
    "    result = {}\n",
    "    \n",
    "    # flag to alter the way we build keys\n",
    "    process_diff = False\n",
    "    \n",
    "    # empty array to store extra information if process_diff flag is True\n",
    "    extra = []\n",
    "    for i, x in enumerate(str_lst):\n",
    "        # splits each line into a key, value string pair\n",
    "        first, *second = x.split(':')\n",
    "        \n",
    "        if not first.isupper():    \n",
    "            # checks if key isn't CAPS, if not we process the rest of the html differently\n",
    "            process_diff = True\n",
    "            \n",
    "        if not process_diff:\n",
    "            # we join the second part in case there exists a colon \":\" inside the raw text\n",
    "            result[first] = (' '.join(second)).strip()\n",
    "            \n",
    "        else:\n",
    "            # append each extra line to a general array\n",
    "            extra.append(x)\n",
    "    \n",
    "    # combine all extra values into a single long string\n",
    "    result['extra'] = ' '.join(extra)\n",
    "    return result"
   ]
  },
  {
   "cell_type": "code",
   "execution_count": 134,
   "metadata": {},
   "outputs": [
    {
     "data": {
      "text/plain": [
       "{'YEAR': \"Early 1990's\",\n",
       " 'SEASON': 'Fall',\n",
       " 'STATE': 'Alaska',\n",
       " 'COUNTY': 'Valdez-Chitina-Whittier County',\n",
       " 'LOCATION DETAILS': 'East side of Prince William Sound',\n",
       " 'OBSERVED': 'Ed L. was salmon fishing with a companion in Prince William Sound. After anchoring off shore, his companion took a small boat up a river to check on the state of the salmon run. As the day wore on toward evening and he didn\\'t come back at the expected time, Ed scanned upriver and across the adjacent land with binoculars. There he saw a sasquatch walking across the tundra, with long, smooth steps and with dark hair flowing from its shoulders, bouncing behind \"like a cape\" at every step. The sasquatch paid no attention to the boat (distance about 1,000\\').',\n",
       " 'OTHER WITNESSES': 'On a commercial fishing boat at anchor at the mouth of one of the rivers discharging into the bay.',\n",
       " 'TIME AND CONDITIONS': \"Early Fall, in the early 1990's.\",\n",
       " 'extra': 'Follow-up investigation report by BFRO Investigator Dr. Wolf H. Fahrenbach: Ed L.is a commercial fisherman and former Air Force noncom and mechanic.The area, according to Ed, was known for its concentration of berries and black bears. The salmon run was in the early starting stage. Solid forest was estimated to be about 100 miles away. Ed did not have even a shadow of a doubt about the identity of the animal he had seen, particularly since he had previously hunted many of the large game animals of Alaska. Hair of the described appearance can be estimated to be 18-24\" long. The interest of this sighting with its rather meager contents lies in its geographical latitude. The center of Prince William Sound lies at 60 degree, 40 minutes N. Additional Alaskan sighting reports are to be found in Green (1978), and in an article in the magazine \"Alaska\" of October, 1995, pp. 25-27. Aside from reports in the Alaska Panhandle, e.g., near Hyder, Ward Cove on Prince of Wales Island, and in the Wrangell Narrows (by Bob Titmus himself), all in the vicinity of 56 degrees N., there are scattered sightings farther north. On the Alaska Peninsula, a cluster of sightings have been recorded near Chignik Lake (55 degree, 54 minutes N), Manokotak near Kulukak Bay (58:40 N), Togiak drainage (59 N), Lake Iliamna (59:30 N), and yet farther north near Galena, 120 miles inland from Norton Sound (64:44 N) and Kotzebue Sound at the Arctic Circle (66:33). All of these sites are on the coast or within ready sasquatch walking distance of it and are, consequently, moderated by the ocean. Such cannot be said for inland sightings, such as that near Fort Yukon, south of the Brooks Range, or Dawson Creek (NE British Columbia; detailed in Hunter and Dahinden, 1993). Both of these locations are exposed to the full brunt of the arctic winter. Seasonal migration would appear to be of immediate advantage in these regions as compared to the overall temperate Pacific Northwest, though unlikely to be established in view of the rarity of these events. In any case, large bulk and long hair would be of decided survival value. '}"
      ]
     },
     "execution_count": 134,
     "metadata": {},
     "output_type": "execute_result"
    }
   ],
   "source": [
    "soup = BeautifulSoup(raw_df.html[19])\n",
    "\n",
    "build_details([x.text for x in soup.find_all('p')])"
   ]
  },
  {
   "cell_type": "code",
   "execution_count": 135,
   "metadata": {},
   "outputs": [],
   "source": [
    "def process_one(row):\n",
    "    soup = BeautifulSoup(row)\n",
    "    details = build_details([x.text for x in soup.find_all('p')])\n",
    "    header = build_header([x.text for x in soup.find_all('span')[0:5]])\n",
    "    joined = {}\n",
    "    joined.update(details)\n",
    "    joined.update(header)\n",
    "    return joined\n",
    "    "
   ]
  },
  {
   "cell_type": "code",
   "execution_count": 138,
   "metadata": {},
   "outputs": [],
   "source": [
    "processed = []\n",
    "\n",
    "for i, row in enumerate(raw_df.html):\n",
    "    try:\n",
    "        processed.append(process_one(row))\n",
    "    except Exception as e:\n",
    "        print(f'row: {i}', e)"
   ]
  },
  {
   "cell_type": "code",
   "execution_count": 142,
   "metadata": {},
   "outputs": [
    {
     "data": {
      "text/plain": [
       "(array([ 1.,  0.,  0.,  0.,  0.,  1.,  5.,  5., 28., 59.]),\n",
       " array([ 6. ,  7.5,  9. , 10.5, 12. , 13.5, 15. , 16.5, 18. , 19.5, 21. ]),\n",
       " <a list of 10 Patch objects>)"
      ]
     },
     "execution_count": 142,
     "metadata": {},
     "output_type": "execute_result"
    },
    {
     "data": {
      "image/png": "[encoded data removed]",
      "text/plain": [
       "<Figure size 432x288 with 1 Axes>"
      ]
     },
     "metadata": {
      "needs_background": "light"
     },
     "output_type": "display_data"
    }
   ],
   "source": [
    "import matplotlib.pyplot as plt\n",
    "\n",
    "fig, ax = plt.subplots()\n",
    "\n",
    "ax.hist([len(x.keys()) for x in processed])"
   ]
  },
  {
   "cell_type": "code",
   "execution_count": 143,
   "metadata": {},
   "outputs": [
    {
     "name": "stdout",
     "output_type": "stream",
     "text": [
      "{'extra': 'Media Article # 576\\n Friday,\\xa0April\\xa015,\\xa01938 Hairy Wild Man Sought In Swamp The Oshkosh Northwestern Anniston, Ala. - (UP) - A wild man who runs on all fours, chases dogs and frightens farmers is being sought in a dense swamp in the Choccolocco valley.  Sheriff W. P. cotton led a posse in search of the strange beast which, farmers insisted, was accompanied by a woman and a child - both as savage in appearance and actions as the man.  Rex Biddle, a farmer, told Sheriff Cotton that the man approached his home walking on all fours in the manner of an ape.  \"He was about five feet tall, and had hair all over his body,\" Biddle said.  \"He was unclothed.  Despite his beastlike appearance, his nose and other features indicated he was human.\"  Biddle said he reached for his gun but didn\\'t shoot because \"I did know whether that would be legal.\"  Roy Storey, annother farmer, said the creature followed him for a time and then \"dropped to all fours and chased my pet dog into the swamp.\"  Residents of the district petitioned the sheriff to \"catch this thing or we are moving out.\"', 'region': 'United States', 'state': 'Alabama', 'detail': 'Calhoun County', 'report': '576', 'report_class': 'Copyright © 2017 BFRO.net'}\n"
     ]
    }
   ],
   "source": [
    "for x in processed:\n",
    "    if len(x.keys()) < 14:\n",
    "        print(x)"
   ]
  },
  {
   "cell_type": "code",
   "execution_count": 140,
   "metadata": {},
   "outputs": [],
   "source": [
    "df = pd.DataFrame(processed)"
   ]
  },
  {
   "cell_type": "code",
   "execution_count": 141,
   "metadata": {},
   "outputs": [
    {
     "data": {
      "text/html": [
       "<div>\n",
       "<style scoped>\n",
       "    .dataframe tbody tr th:only-of-type {\n",
       "        vertical-align: middle;\n",
       "    }\n",
       "\n",
       "    .dataframe tbody tr th {\n",
       "        vertical-align: top;\n",
       "    }\n",
       "\n",
       "    .dataframe thead th {\n",
       "        text-align: right;\n",
       "    }\n",
       "</style>\n",
       "<table border=\"1\" class=\"dataframe\">\n",
       "  <thead>\n",
       "    <tr style=\"text-align: right;\">\n",
       "      <th></th>\n",
       "      <th>YEAR</th>\n",
       "      <th>SEASON</th>\n",
       "      <th>MONTH</th>\n",
       "      <th>STATE</th>\n",
       "      <th>COUNTY</th>\n",
       "      <th>LOCATION DETAILS</th>\n",
       "      <th>NEAREST TOWN</th>\n",
       "      <th>NEAREST ROAD</th>\n",
       "      <th>OBSERVED</th>\n",
       "      <th>ALSO NOTICED</th>\n",
       "      <th>...</th>\n",
       "      <th>OTHER STORIES</th>\n",
       "      <th>TIME AND CONDITIONS</th>\n",
       "      <th>ENVIRONMENT</th>\n",
       "      <th>extra</th>\n",
       "      <th>region</th>\n",
       "      <th>state</th>\n",
       "      <th>detail</th>\n",
       "      <th>report</th>\n",
       "      <th>report_class</th>\n",
       "      <th>DATE</th>\n",
       "    </tr>\n",
       "  </thead>\n",
       "  <tbody>\n",
       "    <tr>\n",
       "      <th>0</th>\n",
       "      <td>2004</td>\n",
       "      <td>Winter</td>\n",
       "      <td>February</td>\n",
       "      <td>Alaska</td>\n",
       "      <td>Anchorage County</td>\n",
       "      <td>Up near powerline clearings east of Potter Mar...</td>\n",
       "      <td>Anchorage / Hillside</td>\n",
       "      <td>No real roads in the area</td>\n",
       "      <td>I and two of my friends were bored one night s...</td>\n",
       "      <td>Some tracks in the snow, and a clearing in the...</td>\n",
       "      <td>...</td>\n",
       "      <td>I have not heard of any other incidents in Anc...</td>\n",
       "      <td>Middle of the night. The only light was the he...</td>\n",
       "      <td>In the middle of the woods, in a clearing cove...</td>\n",
       "      <td>Follow-up investigation report by BFRO Investi...</td>\n",
       "      <td>United States</td>\n",
       "      <td>Alaska</td>\n",
       "      <td>Anchorage County</td>\n",
       "      <td>13038</td>\n",
       "      <td>(Class A)</td>\n",
       "      <td>NaN</td>\n",
       "    </tr>\n",
       "    <tr>\n",
       "      <th>1</th>\n",
       "      <td>2003</td>\n",
       "      <td>Winter</td>\n",
       "      <td>December</td>\n",
       "      <td>Alaska</td>\n",
       "      <td>Anchorage County</td>\n",
       "      <td>Few houses on the way, a power relay station. ...</td>\n",
       "      <td>Anchorage</td>\n",
       "      <td>Dowling</td>\n",
       "      <td>Me and a couple of friends had been bored, whe...</td>\n",
       "      <td>We smelled of colonge and after shave, and one...</td>\n",
       "      <td>...</td>\n",
       "      <td>no</td>\n",
       "      <td>Started at 11, ended at about 3-3 30. Weather ...</td>\n",
       "      <td>A pine forest, with a bog or swamp on the righ...</td>\n",
       "      <td>Follow-up investigation report by BFRO Investi...</td>\n",
       "      <td>United States</td>\n",
       "      <td>Alaska</td>\n",
       "      <td>Anchorage County</td>\n",
       "      <td>8792</td>\n",
       "      <td>(Class B)</td>\n",
       "      <td>Friday night</td>\n",
       "    </tr>\n",
       "    <tr>\n",
       "      <th>2</th>\n",
       "      <td>1998</td>\n",
       "      <td>Fall</td>\n",
       "      <td>September</td>\n",
       "      <td>Alaska</td>\n",
       "      <td>Bethel County</td>\n",
       "      <td>45 miles by air west of Lake Iliamna, Alaska i...</td>\n",
       "      <td>NaN</td>\n",
       "      <td>NaN</td>\n",
       "      <td>My hunting buddy and I were sitting on a ridge...</td>\n",
       "      <td>nothing unusual</td>\n",
       "      <td>...</td>\n",
       "      <td>NaN</td>\n",
       "      <td>NaN</td>\n",
       "      <td>Call Iliamna Air taxi for lat &amp; Long of Long L...</td>\n",
       "      <td></td>\n",
       "      <td>United States</td>\n",
       "      <td>Alaska</td>\n",
       "      <td>Bethel County</td>\n",
       "      <td>1255</td>\n",
       "      <td>(Class B)</td>\n",
       "      <td>3</td>\n",
       "    </tr>\n",
       "    <tr>\n",
       "      <th>3</th>\n",
       "      <td>2004</td>\n",
       "      <td>Summer</td>\n",
       "      <td>July</td>\n",
       "      <td>Alaska</td>\n",
       "      <td>Bristol Bay County</td>\n",
       "      <td>Approximately 95 miles east of Egegik, Alaska....</td>\n",
       "      <td>Egegik</td>\n",
       "      <td>NaN</td>\n",
       "      <td>To whom it may concern, I am a commercial fish...</td>\n",
       "      <td>Just these foot prints and how obvious it was ...</td>\n",
       "      <td>...</td>\n",
       "      <td>I've only heard of one other story, from an ol...</td>\n",
       "      <td>Approximately 12 30 pm, partially coudy/sunny.</td>\n",
       "      <td>Lake front,creek spit, gravel and sand, alder ...</td>\n",
       "      <td>Follow-up investigation report by BFRO Investi...</td>\n",
       "      <td>United States</td>\n",
       "      <td>Alaska</td>\n",
       "      <td>Bristol Bay County</td>\n",
       "      <td>11616</td>\n",
       "      <td>(Class B)</td>\n",
       "      <td>20</td>\n",
       "    </tr>\n",
       "    <tr>\n",
       "      <th>4</th>\n",
       "      <td>2000</td>\n",
       "      <td>Summer</td>\n",
       "      <td>June</td>\n",
       "      <td>Alaska</td>\n",
       "      <td>Cordova-McCarthy County</td>\n",
       "      <td>On the main trail toward the glacier, before t...</td>\n",
       "      <td>Kennikot, Alaska</td>\n",
       "      <td>not sure</td>\n",
       "      <td>My hiking partner and I arrived late to the Ke...</td>\n",
       "      <td>I did hear what appeared to be grunting in the...</td>\n",
       "      <td>...</td>\n",
       "      <td>None</td>\n",
       "      <td>About 12 00 Midnight / full moon / clear / dim...</td>\n",
       "      <td>This sighting was located at approximately 1 t...</td>\n",
       "      <td>Follow-up investigation report: Summary of com...</td>\n",
       "      <td>United States</td>\n",
       "      <td>Alaska</td>\n",
       "      <td>Cordova-McCarthy County</td>\n",
       "      <td>637</td>\n",
       "      <td>(Class A)</td>\n",
       "      <td>16</td>\n",
       "    </tr>\n",
       "  </tbody>\n",
       "</table>\n",
       "<p>5 rows × 21 columns</p>\n",
       "</div>"
      ],
      "text/plain": [
       "   YEAR  SEASON      MONTH   STATE                   COUNTY  \\\n",
       "0  2004  Winter   February  Alaska         Anchorage County   \n",
       "1  2003  Winter   December  Alaska         Anchorage County   \n",
       "2  1998    Fall  September  Alaska            Bethel County   \n",
       "3  2004  Summer       July  Alaska       Bristol Bay County   \n",
       "4  2000  Summer       June  Alaska  Cordova-McCarthy County   \n",
       "\n",
       "                                    LOCATION DETAILS          NEAREST TOWN  \\\n",
       "0  Up near powerline clearings east of Potter Mar...  Anchorage / Hillside   \n",
       "1  Few houses on the way, a power relay station. ...             Anchorage   \n",
       "2  45 miles by air west of Lake Iliamna, Alaska i...                   NaN   \n",
       "3  Approximately 95 miles east of Egegik, Alaska....                Egegik   \n",
       "4  On the main trail toward the glacier, before t...      Kennikot, Alaska   \n",
       "\n",
       "                NEAREST ROAD  \\\n",
       "0  No real roads in the area   \n",
       "1                    Dowling   \n",
       "2                        NaN   \n",
       "3                        NaN   \n",
       "4                   not sure   \n",
       "\n",
       "                                            OBSERVED  \\\n",
       "0  I and two of my friends were bored one night s...   \n",
       "1  Me and a couple of friends had been bored, whe...   \n",
       "2  My hunting buddy and I were sitting on a ridge...   \n",
       "3  To whom it may concern, I am a commercial fish...   \n",
       "4  My hiking partner and I arrived late to the Ke...   \n",
       "\n",
       "                                        ALSO NOTICED  ...  \\\n",
       "0  Some tracks in the snow, and a clearing in the...  ...   \n",
       "1  We smelled of colonge and after shave, and one...  ...   \n",
       "2                                    nothing unusual  ...   \n",
       "3  Just these foot prints and how obvious it was ...  ...   \n",
       "4  I did hear what appeared to be grunting in the...  ...   \n",
       "\n",
       "                                       OTHER STORIES  \\\n",
       "0  I have not heard of any other incidents in Anc...   \n",
       "1                                                 no   \n",
       "2                                                NaN   \n",
       "3  I've only heard of one other story, from an ol...   \n",
       "4                                               None   \n",
       "\n",
       "                                 TIME AND CONDITIONS  \\\n",
       "0  Middle of the night. The only light was the he...   \n",
       "1  Started at 11, ended at about 3-3 30. Weather ...   \n",
       "2                                                NaN   \n",
       "3     Approximately 12 30 pm, partially coudy/sunny.   \n",
       "4  About 12 00 Midnight / full moon / clear / dim...   \n",
       "\n",
       "                                         ENVIRONMENT  \\\n",
       "0  In the middle of the woods, in a clearing cove...   \n",
       "1  A pine forest, with a bog or swamp on the righ...   \n",
       "2  Call Iliamna Air taxi for lat & Long of Long L...   \n",
       "3  Lake front,creek spit, gravel and sand, alder ...   \n",
       "4  This sighting was located at approximately 1 t...   \n",
       "\n",
       "                                               extra         region   state  \\\n",
       "0  Follow-up investigation report by BFRO Investi...  United States  Alaska   \n",
       "1  Follow-up investigation report by BFRO Investi...  United States  Alaska   \n",
       "2                                                     United States  Alaska   \n",
       "3  Follow-up investigation report by BFRO Investi...  United States  Alaska   \n",
       "4  Follow-up investigation report: Summary of com...  United States  Alaska   \n",
       "\n",
       "                    detail report report_class          DATE  \n",
       "0         Anchorage County  13038    (Class A)           NaN  \n",
       "1         Anchorage County   8792    (Class B)  Friday night  \n",
       "2            Bethel County   1255    (Class B)             3  \n",
       "3       Bristol Bay County  11616    (Class B)            20  \n",
       "4  Cordova-McCarthy County    637    (Class A)            16  \n",
       "\n",
       "[5 rows x 21 columns]"
      ]
     },
     "execution_count": 141,
     "metadata": {},
     "output_type": "execute_result"
    }
   ],
   "source": [
    "df.head()"
   ]
  },
  {
   "cell_type": "code",
   "execution_count": null,
   "metadata": {},
   "outputs": [],
   "source": []
  }
 ],
 "metadata": {
  "kernelspec": {
   "display_name": "Python 3",
   "language": "python",
   "name": "python3"
  },
  "language_info": {
   "codemirror_mode": {
    "name": "ipython",
    "version": 3
   },
   "file_extension": ".py",
   "mimetype": "text/x-python",
   "name": "python",
   "nbconvert_exporter": "python",
   "pygments_lexer": "ipython3",
   "version": "3.8.5"
  }
 },
 "nbformat": 4,
 "nbformat_minor": 4
}
